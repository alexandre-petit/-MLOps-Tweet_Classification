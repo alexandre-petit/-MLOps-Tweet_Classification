{
 "cells": [
  {
   "cell_type": "code",
   "execution_count": 66,
   "metadata": {},
   "outputs": [
    {
     "data": {
      "text/plain": [
       "<Experiment: artifact_location='file:///c:/Users/petit/Openclassrooms/P7/mlruns/590560026109209413', creation_time=1741184161302, experiment_id='590560026109209413', last_update_time=1741184161302, lifecycle_stage='active', name='Mlflow test 2', tags={}>"
      ]
     },
     "execution_count": 66,
     "metadata": {},
     "output_type": "execute_result"
    }
   ],
   "source": [
    "import pandas as pd\n",
    "import numpy as np\n",
    "\n",
    "import matplotlib.pyplot as plt\n",
    "import seaborn as sns\n",
    "sns.set_style('darkgrid')\n",
    "\n",
    "from sklearn.model_selection import train_test_split, cross_val_score\n",
    "from sklearn.linear_model import LogisticRegression\n",
    "from sklearn.feature_extraction.text import CountVectorizer, TfidfVectorizer\n",
    "from sklearn.metrics import accuracy_score, confusion_matrix\n",
    "\n",
    "from hyperopt import tpe, STATUS_OK, Trials, hp, fmin\n",
    "\n",
    "import mlflow\n",
    "mlflow.set_experiment(\"Mlflow test 2\")"
   ]
  },
  {
   "cell_type": "code",
   "execution_count": 67,
   "metadata": {},
   "outputs": [],
   "source": [
    "def objective(params):\n",
    "    with mlflow.start_run(nested=True):\n",
    "        model = LogisticRegression(**params, random_state=42)\n",
    "        \n",
    "        scores = cross_val_score(model, X_train, y_train, cv=5, n_jobs=-1, scoring='accuracy')\n",
    "        \n",
    "        average_score = round(sum(scores) / 5, 3)\n",
    "        \n",
    "        loss = 1 - average_score\n",
    "        \n",
    "        \n",
    "        mlflow.log_metric('Accuracy', average_score)\n",
    "        mlflow.log_params(params)\n",
    "        \n",
    "        return {'loss': loss, 'params': params, 'status': STATUS_OK}"
   ]
  },
  {
   "cell_type": "code",
   "execution_count": 68,
   "metadata": {},
   "outputs": [],
   "source": [
    "space = {\n",
    "    'tol': hp.uniform('tol', 0.00001, 0.0001),\n",
    "    'C': hp.uniform('C', 0.05, 3)\n",
    "}"
   ]
  },
  {
   "cell_type": "code",
   "execution_count": 69,
   "metadata": {},
   "outputs": [],
   "source": [
    "model_name = \"\""
   ]
  },
  {
   "cell_type": "code",
   "execution_count": 70,
   "metadata": {},
   "outputs": [
    {
     "data": {
      "text/html": [
       "<div>\n",
       "<style scoped>\n",
       "    .dataframe tbody tr th:only-of-type {\n",
       "        vertical-align: middle;\n",
       "    }\n",
       "\n",
       "    .dataframe tbody tr th {\n",
       "        vertical-align: top;\n",
       "    }\n",
       "\n",
       "    .dataframe thead th {\n",
       "        text-align: right;\n",
       "    }\n",
       "</style>\n",
       "<table border=\"1\" class=\"dataframe\">\n",
       "  <thead>\n",
       "    <tr style=\"text-align: right;\">\n",
       "      <th></th>\n",
       "      <th>Target</th>\n",
       "      <th>Tweet_preprocessed</th>\n",
       "      <th>Tweet_preprocessed_dl</th>\n",
       "    </tr>\n",
       "  </thead>\n",
       "  <tbody>\n",
       "    <tr>\n",
       "      <th>0</th>\n",
       "      <td>0</td>\n",
       "      <td>awww thats a bummer you shoulda got david car...</td>\n",
       "      <td>awww, that's a bummer. you shoulda got david...</td>\n",
       "    </tr>\n",
       "    <tr>\n",
       "      <th>1</th>\n",
       "      <td>0</td>\n",
       "      <td>is upset that he cant update his facebook by t...</td>\n",
       "      <td>is upset that he can't update his facebook by ...</td>\n",
       "    </tr>\n",
       "    <tr>\n",
       "      <th>2</th>\n",
       "      <td>0</td>\n",
       "      <td>i dived many times for the ball managed to sav...</td>\n",
       "      <td>i dived many times for the ball. managed to sa...</td>\n",
       "    </tr>\n",
       "    <tr>\n",
       "      <th>3</th>\n",
       "      <td>0</td>\n",
       "      <td>my whole body feels itchy and like its on fire</td>\n",
       "      <td>my whole body feels itchy and like its on fire</td>\n",
       "    </tr>\n",
       "    <tr>\n",
       "      <th>4</th>\n",
       "      <td>0</td>\n",
       "      <td>no its not behaving at all im mad why am i her...</td>\n",
       "      <td>no, it's not behaving at all. i'm mad. why am ...</td>\n",
       "    </tr>\n",
       "  </tbody>\n",
       "</table>\n",
       "</div>"
      ],
      "text/plain": [
       "   Target  ...                              Tweet_preprocessed_dl\n",
       "0       0  ...    awww, that's a bummer. you shoulda got david...\n",
       "1       0  ...  is upset that he can't update his facebook by ...\n",
       "2       0  ...  i dived many times for the ball. managed to sa...\n",
       "3       0  ...     my whole body feels itchy and like its on fire\n",
       "4       0  ...  no, it's not behaving at all. i'm mad. why am ...\n",
       "\n",
       "[5 rows x 3 columns]"
      ]
     },
     "execution_count": 70,
     "metadata": {},
     "output_type": "execute_result"
    }
   ],
   "source": [
    "df = pd.read_csv('preprocessed_tweet.csv')\n",
    "df.head()"
   ]
  },
  {
   "cell_type": "code",
   "execution_count": 71,
   "metadata": {},
   "outputs": [],
   "source": [
    "y = df['Target'].copy()\n",
    "X = df['Tweet_preprocessed'].copy()"
   ]
  },
  {
   "cell_type": "code",
   "execution_count": 72,
   "metadata": {},
   "outputs": [],
   "source": [
    "X_train, X_test, y_train, y_test = train_test_split(X, y, test_size=0.25, random_state=42)"
   ]
  },
  {
   "cell_type": "code",
   "execution_count": 73,
   "metadata": {},
   "outputs": [
    {
     "data": {
      "text/plain": [
       "612396     hey splogin connect speed should be ok ram may...\n",
       "1445587    again wit the socks 2day huh hehe i like them ...\n",
       "1310255               hey chick how you feeling this morning\n",
       "351809       i feel like i never chill with you guys anymore\n",
       "204527                               yep thats what happened\n",
       "Name: Tweet_preprocessed, dtype: object"
      ]
     },
     "execution_count": 73,
     "metadata": {},
     "output_type": "execute_result"
    }
   ],
   "source": [
    "X_train.head()"
   ]
  },
  {
   "cell_type": "code",
   "execution_count": 74,
   "metadata": {},
   "outputs": [
    {
     "data": {
      "text/plain": [
       "Series([], Name: Tweet_preprocessed, dtype: object)"
      ]
     },
     "execution_count": 74,
     "metadata": {},
     "output_type": "execute_result"
    }
   ],
   "source": [
    "X_train[X_train.isna()]"
   ]
  },
  {
   "cell_type": "code",
   "execution_count": 75,
   "metadata": {},
   "outputs": [],
   "source": [
    "vectorizer_name = \"tfidf\"\n",
    "\n",
    "vectorizer_params = {\"stop_words\": \"english\", \"max_df\": 0.95, \"min_df\": 1}\n",
    "\n",
    "vectorizers = {\n",
    "    'count-vectorizer': CountVectorizer(**vectorizer_params),\n",
    "    'tfidf': TfidfVectorizer(**vectorizer_params)\n",
    "}\n",
    "\n",
    "vectorizer = vectorizers[vectorizer_name]\n",
    "\n",
    "vectorizer.fit(X_train)\n",
    "\n",
    "X_train = vectorizer.transform(X_train)\n",
    "X_test = vectorizer.transform(X_test)"
   ]
  },
  {
   "cell_type": "code",
   "execution_count": 76,
   "metadata": {},
   "outputs": [
    {
     "name": "stdout",
     "output_type": "stream",
     "text": [
      "100%|██████████| 10/10 [02:46<00:00, 16.68s/trial, best loss: 0.22299999999999998]\n"
     ]
    }
   ],
   "source": [
    "tpe_algorithm = tpe.suggest\n",
    "\n",
    "bayes_trials = Trials()\n",
    "\n",
    "with mlflow.start_run(run_name=\"hyperopt_logistic\") as run:\n",
    "    best = fmin(fn=objective, space=space, algo=tpe_algorithm, max_evals=10, trials=bayes_trials)\n",
    "    best = {key:float(value) for key, value in best.items()}\n",
    "    \n",
    "    \n",
    "    mlflow.log_dict(best, \"best_params.json\")"
   ]
  },
  {
   "cell_type": "code",
   "execution_count": 77,
   "metadata": {},
   "outputs": [
    {
     "name": "stdout",
     "output_type": "stream",
     "text": [
      "{'C': 0.6407203973611235, 'tol': 2.1539469728385794e-05}\n"
     ]
    }
   ],
   "source": [
    "print(best)"
   ]
  },
  {
   "cell_type": "code",
   "execution_count": null,
   "metadata": {},
   "outputs": [
    {
     "name": "stderr",
     "output_type": "stream",
     "text": [
      "2025/03/05 19:22:41 WARNING mlflow.sklearn: Failed to log training dataset information to MLflow Tracking. Reason: Unable to allocate 3.17 TiB for an array with shape (1196491, 363865) and data type float64\n"
     ]
    },
    {
     "name": "stdout",
     "output_type": "stream",
     "text": [
      "training model with params: tol:1e-05, C:0.05\n"
     ]
    },
    {
     "name": "stderr",
     "output_type": "stream",
     "text": [
      "2025/03/05 19:22:51 WARNING mlflow.sklearn: Failed to log evaluation dataset information to MLflow Tracking. Reason: Unable to allocate 1.06 TiB for an array with shape (398831, 363865) and data type float64\n",
      "2025/03/05 19:22:51 WARNING mlflow.sklearn: Failed to log training dataset information to MLflow Tracking. Reason: Unable to allocate 3.17 TiB for an array with shape (1196491, 363865) and data type float64\n"
     ]
    },
    {
     "name": "stdout",
     "output_type": "stream",
     "text": [
      "score=0.7682100939997142\n",
      "training model with params: tol:1e-05, C:0.1\n"
     ]
    },
    {
     "name": "stderr",
     "output_type": "stream",
     "text": [
      "2025/03/05 19:23:07 WARNING mlflow.utils.autologging_utils: Encountered unexpected error during sklearn autologging: The following failures occurred while performing one or more logging operations: [MlflowException('Failed to perform one or more operations on the run with ID 8664537e90754a849a272a73e405c79a. Failed operations: [MlflowException(\"Changing param values is not allowed. Param with key=\\'C\\' was already logged with value=\\'0.05\\' for run ID=\\'8664537e90754a849a272a73e405c79a\\'. Attempted logging new value \\'0.1\\'.\")]')]\n",
      "2025/03/05 19:23:07 WARNING mlflow.sklearn: Failed to log training dataset information to MLflow Tracking. Reason: Unable to allocate 3.17 TiB for an array with shape (1196491, 363865) and data type float64\n"
     ]
    },
    {
     "name": "stdout",
     "output_type": "stream",
     "text": [
      "score=0.772068871276305\n",
      "training model with params: tol:1e-05, C:0.5\n"
     ]
    },
    {
     "name": "stderr",
     "output_type": "stream",
     "text": [
      "2025/03/05 19:23:34 WARNING mlflow.utils.autologging_utils: Encountered unexpected error during sklearn autologging: The following failures occurred while performing one or more logging operations: [MlflowException('Failed to perform one or more operations on the run with ID 8664537e90754a849a272a73e405c79a. Failed operations: [MlflowException(\"Changing param values is not allowed. Param with key=\\'C\\' was already logged with value=\\'0.05\\' for run ID=\\'8664537e90754a849a272a73e405c79a\\'. Attempted logging new value \\'0.5\\'.\")]')]\n",
      "2025/03/05 19:23:34 WARNING mlflow.sklearn: Failed to log training dataset information to MLflow Tracking. Reason: Unable to allocate 3.17 TiB for an array with shape (1196491, 363865) and data type float64\n"
     ]
    },
    {
     "name": "stdout",
     "output_type": "stream",
     "text": [
      "score=0.7770158287595498\n",
      "training model with params: tol:1e-05, C:1\n"
     ]
    },
    {
     "name": "stderr",
     "output_type": "stream",
     "text": [
      "2025/03/05 19:24:08 WARNING mlflow.utils.autologging_utils: Encountered unexpected error during sklearn autologging: The following failures occurred while performing one or more logging operations: [MlflowException('Failed to perform one or more operations on the run with ID 8664537e90754a849a272a73e405c79a. Failed operations: [MlflowException(\"Changing param values is not allowed. Param with key=\\'C\\' was already logged with value=\\'0.05\\' for run ID=\\'8664537e90754a849a272a73e405c79a\\'. Attempted logging new value \\'1\\'.\")]')]\n",
      "2025/03/05 19:24:08 WARNING mlflow.sklearn: Failed to log training dataset information to MLflow Tracking. Reason: Unable to allocate 3.17 TiB for an array with shape (1196491, 363865) and data type float64\n"
     ]
    },
    {
     "name": "stdout",
     "output_type": "stream",
     "text": [
      "score=0.7774270304966264\n",
      "training model with params: tol:0.0001, C:0.05\n"
     ]
    },
    {
     "name": "stderr",
     "output_type": "stream",
     "text": [
      "2025/03/05 19:24:16 WARNING mlflow.utils.autologging_utils: Encountered unexpected error during sklearn autologging: The following failures occurred while performing one or more logging operations: [MlflowException('Failed to perform one or more operations on the run with ID 8664537e90754a849a272a73e405c79a. Failed operations: [MlflowException(\"Changing param values is not allowed. Param with key=\\'tol\\' was already logged with value=\\'1e-05\\' for run ID=\\'8664537e90754a849a272a73e405c79a\\'. Attempted logging new value \\'0.0001\\'.\")]')]\n",
      "2025/03/05 19:24:16 WARNING mlflow.sklearn: Failed to log training dataset information to MLflow Tracking. Reason: Unable to allocate 3.17 TiB for an array with shape (1196491, 363865) and data type float64\n"
     ]
    },
    {
     "name": "stdout",
     "output_type": "stream",
     "text": [
      "score=0.7671770750016924\n",
      "training model with params: tol:0.0001, C:0.1\n"
     ]
    },
    {
     "name": "stderr",
     "output_type": "stream",
     "text": [
      "2025/03/05 19:24:27 WARNING mlflow.utils.autologging_utils: Encountered unexpected error during sklearn autologging: The following failures occurred while performing one or more logging operations: [MlflowException('Failed to perform one or more operations on the run with ID 8664537e90754a849a272a73e405c79a. Failed operations: [MlflowException(\"Changing param values is not allowed. Param with key=\\'C\\' was already logged with value=\\'0.05\\' for run ID=\\'8664537e90754a849a272a73e405c79a\\'. Attempted logging new value \\'0.1\\'.\")]')]\n",
      "2025/03/05 19:24:27 WARNING mlflow.sklearn: Failed to log training dataset information to MLflow Tracking. Reason: Unable to allocate 3.17 TiB for an array with shape (1196491, 363865) and data type float64\n"
     ]
    },
    {
     "name": "stdout",
     "output_type": "stream",
     "text": [
      "score=0.772093944552956\n",
      "training model with params: tol:0.0001, C:0.5\n"
     ]
    },
    {
     "name": "stderr",
     "output_type": "stream",
     "text": [
      "2025/03/05 19:24:42 WARNING mlflow.utils.autologging_utils: Encountered unexpected error during sklearn autologging: The following failures occurred while performing one or more logging operations: [MlflowException('Failed to perform one or more operations on the run with ID 8664537e90754a849a272a73e405c79a. Failed operations: [MlflowException(\"Changing param values is not allowed. Param with key=\\'C\\' was already logged with value=\\'0.05\\' for run ID=\\'8664537e90754a849a272a73e405c79a\\'. Attempted logging new value \\'0.5\\'.\")]')]\n",
      "2025/03/05 19:24:42 WARNING mlflow.sklearn: Failed to log training dataset information to MLflow Tracking. Reason: Unable to allocate 3.17 TiB for an array with shape (1196491, 363865) and data type float64\n"
     ]
    },
    {
     "name": "stdout",
     "output_type": "stream",
     "text": [
      "score=0.7768678964273088\n",
      "training model with params: tol:0.0001, C:1\n"
     ]
    },
    {
     "name": "stderr",
     "output_type": "stream",
     "text": [
      "2025/03/05 19:24:55 WARNING mlflow.utils.autologging_utils: Encountered unexpected error during sklearn autologging: The following failures occurred while performing one or more logging operations: [MlflowException('Failed to perform one or more operations on the run with ID 8664537e90754a849a272a73e405c79a. Failed operations: [MlflowException(\"Changing param values is not allowed. Param with key=\\'C\\' was already logged with value=\\'0.05\\' for run ID=\\'8664537e90754a849a272a73e405c79a\\'. Attempted logging new value \\'1\\'.\")]')]\n"
     ]
    },
    {
     "name": "stdout",
     "output_type": "stream",
     "text": [
      "score=0.7766898761630866\n"
     ]
    }
   ],
   "source": [
    "from time import perf_counter\n",
    "from itertools import product\n",
    "\n",
    "params = {\n",
    "    'tol': [0.00001, 0.0001],\n",
    "    'C': [0.05, 0.1, 0.5, 1]\n",
    "}\n",
    "\n",
    "\n",
    "with mlflow.start_run():\n",
    "    for t, c in product(params['tol'], params['C']):\n",
    "    \n",
    "        mlflow.log_params({\"vectorizer\": vectorizer_name})\n",
    "        \n",
    "        print(f\"training model with params: tol:{t}, C:{c}\")\n",
    "        \n",
    "        model = LogisticRegression(tol=t, C=c, max_iter=1000)\n",
    "        \n",
    "        start = perf_counter()\n",
    "\n",
    "        model.fit(X_train, y_train)\n",
    "        \n",
    "        \n",
    "        y_pred = model.predict(X_test)\n",
    "        \n",
    "        end = perf_counter()\n",
    "        \n",
    "        duration = round(end - start, 2)\n",
    "        \n",
    "        score = accuracy_score(y_test, y_pred)\n",
    "        \n",
    "        print(f\"{score=}\")\n",
    "        mlflow.log_metric(\"accuracy\", score)\n",
    "        mlflow.log_metric(\"duration\", duration)"
   ]
  },
  {
   "cell_type": "code",
   "execution_count": null,
   "metadata": {},
   "outputs": [],
   "source": [
    "mlflow.set_experiment(\"Bert_model\")\n",
    "\n",
    "with mlflow.start_run():\n",
    "    #mlflow.log_params({\"vectorizer\": vectorizer_name})\n",
    "    \n",
    "    start = perf_counter()\n",
    "\n",
    "    bert_model.fit\n",
    "    \n",
    "    \n",
    "    y_pred = bert_model.predict(X_test)\n",
    "    \n",
    "    end = perf_counter()\n",
    "    \n",
    "    duration = round(end - start, 2)\n",
    "    \n",
    "    score = accuracy_score(y_test, y_pred)\n",
    "    mlflow.log_metric(\"accuracy\", score)\n",
    "    mlflow.log_metric(\"duration\", duration)"
   ]
  }
 ],
 "metadata": {
  "kernelspec": {
   "display_name": "mlops",
   "language": "python",
   "name": "python3"
  },
  "language_info": {
   "codemirror_mode": {
    "name": "ipython",
    "version": 3
   },
   "file_extension": ".py",
   "mimetype": "text/x-python",
   "name": "python",
   "nbconvert_exporter": "python",
   "pygments_lexer": "ipython3",
   "version": "3.11.11"
  }
 },
 "nbformat": 4,
 "nbformat_minor": 2
}
